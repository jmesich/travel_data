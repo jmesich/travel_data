{
 "cells": [
  {
   "cell_type": "markdown",
   "metadata": {},
   "source": [
    "following:https://github.com/aakashgoel12/Flight-Delay-Prediction/blob/master/code/flightDelay_v1.ipynb"
   ]
  },
  {
   "cell_type": "code",
   "execution_count": 16,
   "metadata": {},
   "outputs": [],
   "source": [
    "import pandas as pd\n",
    "import numpy as np\n",
    "import matplotlib.pyplot as plt\n",
    "import seaborn as sns\n",
    "from scipy import stats\n",
    "import sklearn as sk\n",
    "from sklearn.model_selection import train_test_split\n",
    "from sklearn.model_selection import GridSearchCV\n",
    "from sklearn.metrics import classification_report\n",
    "from sklearn.metrics import confusion_matrix\n",
    "from sklearn import svm\n",
    "import datetime\n",
    "# Ignore warnings\n",
    "import warnings\n",
    "warnings.filterwarnings(\"ignore\")"
   ]
  },
  {
   "cell_type": "code",
   "execution_count": 2,
   "metadata": {},
   "outputs": [],
   "source": [
    "#ingest data\n",
    "flights = pd.read_csv('flight_predictions.csv')"
   ]
  },
  {
   "cell_type": "code",
   "execution_count": 3,
   "metadata": {},
   "outputs": [],
   "source": [
    "flights.head()"
   ]
  },
  {
   "cell_type": "code",
   "execution_count": 6,
   "metadata": {},
   "outputs": [
    {
     "name": "stdout",
     "output_type": "stream",
     "text": [
      "0\n",
      "False\n",
      "DAY_OF_WEEK                           0\n",
      "SCHEDULED_DEPARTURE                   0\n",
      "DEPARTURE_TIME                        0\n",
      "DEPARTURE_DELAY                       0\n",
      "TAXI_OUT                              0\n",
      "SCHEDULED_TIME                        0\n",
      "ELAPSED_TIME                          0\n",
      "AIR_TIME                              0\n",
      "DISTANCE                              0\n",
      "TAXI_IN                               0\n",
      "SCHEDULED_ARRIVAL                     0\n",
      "ARRIVAL_TIME                          0\n",
      "ARRIVAL_DELAY                         0\n",
      "DATE                                  0\n",
      "weekend                               0\n",
      "holiday                               0\n",
      "long_flight                           0\n",
      "airline_avg_arrival_delay             0\n",
      "airline_avg_departure_delay           0\n",
      "source_airport_avg_departure_delay    0\n",
      "destination_airport_avg_delay         0\n",
      "dtype: int64\n"
     ]
    }
   ],
   "source": [
    "#convert to minutes\n",
    "def convert_to_datetime(value):\n",
    "    return datetime.datetime.strptime(str(value), '%H:%M:%S')\n",
    "def convert_to_minute(value):\n",
    "    return int(value.total_seconds() / 60)\n",
    "    \n",
    "#both datetime but want an int\n",
    "# elapsed time = arrival_time - departure_time\n",
    "#need to convert to datetime, subtract then convert to minutes \n",
    "flights['ELAPSED_TIME'] = flights.apply(\n",
    "    lambda row: convert_to_minute(convert_to_datetime(row['ARRIVAL_TIME'])-convert_to_datetime(row['DEPARTURE_TIME'])) if np.isnan(row['ELAPSED_TIME']) else row['ELAPSED_TIME'],\n",
    "    axis=1\n",
    ")\n",
    "#both datetime but want an int\n",
    "# arrival_delay = arrival_time - scheduled arrival\n",
    "flights['ARRIVAL_DELAY'] = flights.apply(\n",
    "    lambda row: convert_to_minute(convert_to_datetime(row['ARRIVAL_TIME'])-convert_to_datetime(row['SCHEDULED_ARRIVAL'])) if np.isnan(row['ARRIVAL_DELAY']) else row['ARRIVAL_DELAY'],\n",
    "    axis=1\n",
    ")\n",
    "#all int\n",
    "# air time = elapsed_time - taxi_out- taxi_in\n",
    "flights['AIR_TIME'] = flights.apply(\n",
    "    lambda row: row['ELAPSED_TIME']-row['TAXI_OUT']-row['TAXI_IN'] if np.isnan(row['AIR_TIME']) else row['AIR_TIME'],\n",
    "    axis=1\n",
    ")\n",
    "\n",
    "#make sure my dataset is clean\n",
    "print(flights['DEPARTURE_TIME'].isnull().sum())\n",
    "print(flights.isnull().values.any())\n",
    "print(flights.isnull().sum())"
   ]
  },
  {
   "cell_type": "code",
   "execution_count": 8,
   "metadata": {},
   "outputs": [],
   "source": [
    "\n",
    "def get_minutes(value):\n",
    "    value = convert_to_datetime(value)\n",
    "    hour = value.hour\n",
    "    minute = value.minute\n",
    "    return hour*60+minute\n",
    "\n",
    "#get minutes\n",
    "flights['ARRIVAL_TIME'] = flights.apply(\n",
    "    lambda row: get_minutes(row['ARRIVAL_TIME']),\n",
    "    axis=1\n",
    ")\n",
    "\n",
    "#get minutes\n",
    "flights['DEPARTURE_TIME'] = flights.apply(\n",
    "    lambda row: get_minutes(row['DEPARTURE_TIME']),\n",
    "    axis=1\n",
    ")\n",
    "\n",
    "#get minutes\n",
    "flights['SCHEDULED_ARRIVAL'] = flights.apply(\n",
    "    lambda row: get_minutes(row['SCHEDULED_ARRIVAL']),\n",
    "    axis=1\n",
    ")\n",
    "\n",
    "#get minutes\n",
    "flights['SCHEDULED_DEPARTURE'] = flights.apply(\n",
    "    lambda row: get_minutes(row['SCHEDULED_DEPARTURE']),\n",
    "    axis=1\n",
    ")"
   ]
  },
  {
   "cell_type": "code",
   "execution_count": 10,
   "metadata": {},
   "outputs": [],
   "source": [
    "#save to csv\n",
    "flights.to_csv('flight_predictions_final.csv', index = False, header=True)"
   ]
  },
  {
   "cell_type": "code",
   "execution_count": 11,
   "metadata": {},
   "outputs": [],
   "source": [
    "#get the target variable\n",
    "y = np.where(flights['ARRIVAL_DELAY']>10, 1, 0)\n",
    "\n",
    "#only need a subset\n",
    "flights = flights.iloc[:,:10000] \n",
    "\n",
    "#split data\n",
    "X_train, X_test, y_train, y_test = train_test_split(flights, y, test_size=0.2, random_state=0)"
   ]
  },
  {
   "cell_type": "code",
   "execution_count": 13,
   "metadata": {},
   "outputs": [],
   "source": [
    "\n",
    "#set parameters\n",
    "parameters = {'kernel':['linear'], 'C':[1], 'max_iter': [1000]}\n",
    "#parameters = {'kernel':('linear', 'rbf'), 'C':[0.5, 1, 10, 50],'degree':['3', '4','5'], 'max_iter': ['500','1000','2000']}\n",
    "svc = svm.SVC()\n",
    "clf = GridSearchCV(svc, parameters)\n",
    "clf.fit(X_train,y_train)\n",
    "y_pred = clf.predict(X_test)\n"
   ]
  },
  {
   "cell_type": "code",
   "execution_count": 17,
   "metadata": {},
   "outputs": [
    {
     "name": "stdout",
     "output_type": "stream",
     "text": [
      "Best estimator found by grid search:\n",
      "SVC(C=1, kernel='linear', max_iter=1000)\n",
      "              precision    recall  f1-score   support\n",
      "\n",
      "           0       0.96      0.98      0.97    891183\n",
      "           1       0.93      0.84      0.88    254131\n",
      "\n",
      "    accuracy                           0.95   1145314\n",
      "   macro avg       0.94      0.91      0.93   1145314\n",
      "weighted avg       0.95      0.95      0.95   1145314\n",
      "\n",
      "[[875105  16078]\n",
      " [ 39942 214189]]\n"
     ]
    }
   ],
   "source": [
    "print(\"Best estimator found by grid search:\")\n",
    "print(clf.best_estimator_)\n",
    "#print(\"Best parameter (CV score=%0.3f):\" % search.best_score_)\n",
    "#print(search.best_params_)\n",
    "print(classification_report(y_test, y_pred))\n",
    "print(confusion_matrix(y_test, y_pred))\n"
   ]
  },
  {
   "cell_type": "code",
   "execution_count": null,
   "metadata": {},
   "outputs": [],
   "source": []
  }
 ],
 "metadata": {
  "kernelspec": {
   "display_name": "Python 3",
   "language": "python",
   "name": "python3"
  },
  "language_info": {
   "codemirror_mode": {
    "name": "ipython",
    "version": 3
   },
   "file_extension": ".py",
   "mimetype": "text/x-python",
   "name": "python",
   "nbconvert_exporter": "python",
   "pygments_lexer": "ipython3",
   "version": "3.8.5"
  }
 },
 "nbformat": 4,
 "nbformat_minor": 4
}
